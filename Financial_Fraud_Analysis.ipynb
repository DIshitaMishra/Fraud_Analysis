{
 "cells": [
  {
   "cell_type": "code",
   "execution_count": 1,
   "id": "f916b9ff-76b4-4daf-801b-010dcc36cacf",
   "metadata": {},
   "outputs": [
    {
     "name": "stdout",
     "output_type": "stream",
     "text": [
      "Collecting streamlit\n",
      "  Downloading streamlit-1.48.1-py3-none-any.whl.metadata (9.5 kB)\n",
      "Collecting altair!=5.4.0,!=5.4.1,<6,>=4.0 (from streamlit)\n",
      "  Downloading altair-5.5.0-py3-none-any.whl.metadata (11 kB)\n",
      "Collecting blinker<2,>=1.5.0 (from streamlit)\n",
      "  Downloading blinker-1.9.0-py3-none-any.whl.metadata (1.6 kB)\n",
      "Requirement already satisfied: cachetools<7,>=4.0 in c:\\users\\ishita mishra\\appdata\\local\\programs\\python\\python311\\lib\\site-packages (from streamlit) (5.3.2)\n",
      "Collecting click<9,>=7.0 (from streamlit)\n",
      "  Downloading click-8.2.1-py3-none-any.whl.metadata (2.5 kB)\n",
      "Requirement already satisfied: numpy<3,>=1.23 in c:\\users\\ishita mishra\\appdata\\local\\programs\\python\\python311\\lib\\site-packages (from streamlit) (1.26.0)\n",
      "Requirement already satisfied: packaging<26,>=20 in c:\\users\\ishita mishra\\appdata\\local\\programs\\python\\python311\\lib\\site-packages (from streamlit) (23.1)\n",
      "Requirement already satisfied: pandas<3,>=1.4.0 in c:\\users\\ishita mishra\\appdata\\local\\programs\\python\\python311\\lib\\site-packages (from streamlit) (2.1.1)\n",
      "Requirement already satisfied: pillow<12,>=7.1.0 in c:\\users\\ishita mishra\\appdata\\local\\programs\\python\\python311\\lib\\site-packages (from streamlit) (10.0.1)\n",
      "Requirement already satisfied: protobuf<7,>=3.20 in c:\\users\\ishita mishra\\appdata\\local\\programs\\python\\python311\\lib\\site-packages (from streamlit) (4.21.12)\n",
      "Collecting pyarrow>=7.0 (from streamlit)\n",
      "  Downloading pyarrow-21.0.0-cp311-cp311-win_amd64.whl.metadata (3.4 kB)\n",
      "Requirement already satisfied: requests<3,>=2.27 in c:\\users\\ishita mishra\\appdata\\local\\programs\\python\\python311\\lib\\site-packages (from streamlit) (2.31.0)\n",
      "Collecting tenacity<10,>=8.1.0 (from streamlit)\n",
      "  Downloading tenacity-9.1.2-py3-none-any.whl.metadata (1.2 kB)\n",
      "Collecting toml<2,>=0.10.1 (from streamlit)\n",
      "  Downloading toml-0.10.2-py2.py3-none-any.whl.metadata (7.1 kB)\n",
      "Requirement already satisfied: typing-extensions<5,>=4.4.0 in c:\\users\\ishita mishra\\appdata\\local\\programs\\python\\python311\\lib\\site-packages (from streamlit) (4.9.0)\n",
      "Collecting watchdog<7,>=2.1.5 (from streamlit)\n",
      "  Downloading watchdog-6.0.0-py3-none-win_amd64.whl.metadata (44 kB)\n",
      "Collecting gitpython!=3.1.19,<4,>=3.0.7 (from streamlit)\n",
      "  Downloading gitpython-3.1.45-py3-none-any.whl.metadata (13 kB)\n",
      "Collecting pydeck<1,>=0.8.0b4 (from streamlit)\n",
      "  Downloading pydeck-0.9.1-py2.py3-none-any.whl.metadata (4.1 kB)\n",
      "Requirement already satisfied: tornado!=6.5.0,<7,>=6.0.3 in c:\\users\\ishita mishra\\appdata\\local\\programs\\python\\python311\\lib\\site-packages (from streamlit) (6.3.3)\n",
      "Requirement already satisfied: jinja2 in c:\\users\\ishita mishra\\appdata\\local\\programs\\python\\python311\\lib\\site-packages (from altair!=5.4.0,!=5.4.1,<6,>=4.0->streamlit) (3.1.2)\n",
      "Requirement already satisfied: jsonschema>=3.0 in c:\\users\\ishita mishra\\appdata\\local\\programs\\python\\python311\\lib\\site-packages (from altair!=5.4.0,!=5.4.1,<6,>=4.0->streamlit) (4.19.1)\n",
      "Collecting narwhals>=1.14.2 (from altair!=5.4.0,!=5.4.1,<6,>=4.0->streamlit)\n",
      "  Downloading narwhals-2.1.2-py3-none-any.whl.metadata (11 kB)\n",
      "Collecting typing-extensions<5,>=4.4.0 (from streamlit)\n",
      "  Downloading typing_extensions-4.14.1-py3-none-any.whl.metadata (3.0 kB)\n",
      "Requirement already satisfied: colorama in c:\\users\\ishita mishra\\appdata\\local\\programs\\python\\python311\\lib\\site-packages (from click<9,>=7.0->streamlit) (0.4.6)\n",
      "Collecting gitdb<5,>=4.0.1 (from gitpython!=3.1.19,<4,>=3.0.7->streamlit)\n",
      "  Downloading gitdb-4.0.12-py3-none-any.whl.metadata (1.2 kB)\n",
      "Requirement already satisfied: python-dateutil>=2.8.2 in c:\\users\\ishita mishra\\appdata\\local\\programs\\python\\python311\\lib\\site-packages (from pandas<3,>=1.4.0->streamlit) (2.8.2)\n",
      "Requirement already satisfied: pytz>=2020.1 in c:\\users\\ishita mishra\\appdata\\local\\programs\\python\\python311\\lib\\site-packages (from pandas<3,>=1.4.0->streamlit) (2023.3.post1)\n",
      "Requirement already satisfied: tzdata>=2022.1 in c:\\users\\ishita mishra\\appdata\\local\\programs\\python\\python311\\lib\\site-packages (from pandas<3,>=1.4.0->streamlit) (2023.3)\n",
      "Requirement already satisfied: charset-normalizer<4,>=2 in c:\\users\\ishita mishra\\appdata\\local\\programs\\python\\python311\\lib\\site-packages (from requests<3,>=2.27->streamlit) (3.2.0)\n",
      "Requirement already satisfied: idna<4,>=2.5 in c:\\users\\ishita mishra\\appdata\\local\\programs\\python\\python311\\lib\\site-packages (from requests<3,>=2.27->streamlit) (3.4)\n",
      "Requirement already satisfied: urllib3<3,>=1.21.1 in c:\\users\\ishita mishra\\appdata\\local\\programs\\python\\python311\\lib\\site-packages (from requests<3,>=2.27->streamlit) (2.0.5)\n",
      "Requirement already satisfied: certifi>=2017.4.17 in c:\\users\\ishita mishra\\appdata\\local\\programs\\python\\python311\\lib\\site-packages (from requests<3,>=2.27->streamlit) (2023.7.22)\n",
      "Collecting smmap<6,>=3.0.1 (from gitdb<5,>=4.0.1->gitpython!=3.1.19,<4,>=3.0.7->streamlit)\n",
      "  Downloading smmap-5.0.2-py3-none-any.whl.metadata (4.3 kB)\n",
      "Requirement already satisfied: MarkupSafe>=2.0 in c:\\users\\ishita mishra\\appdata\\local\\programs\\python\\python311\\lib\\site-packages (from jinja2->altair!=5.4.0,!=5.4.1,<6,>=4.0->streamlit) (2.1.3)\n",
      "Requirement already satisfied: attrs>=22.2.0 in c:\\users\\ishita mishra\\appdata\\local\\programs\\python\\python311\\lib\\site-packages (from jsonschema>=3.0->altair!=5.4.0,!=5.4.1,<6,>=4.0->streamlit) (23.1.0)\n",
      "Requirement already satisfied: jsonschema-specifications>=2023.03.6 in c:\\users\\ishita mishra\\appdata\\local\\programs\\python\\python311\\lib\\site-packages (from jsonschema>=3.0->altair!=5.4.0,!=5.4.1,<6,>=4.0->streamlit) (2023.7.1)\n",
      "Requirement already satisfied: referencing>=0.28.4 in c:\\users\\ishita mishra\\appdata\\local\\programs\\python\\python311\\lib\\site-packages (from jsonschema>=3.0->altair!=5.4.0,!=5.4.1,<6,>=4.0->streamlit) (0.30.2)\n",
      "Requirement already satisfied: rpds-py>=0.7.1 in c:\\users\\ishita mishra\\appdata\\local\\programs\\python\\python311\\lib\\site-packages (from jsonschema>=3.0->altair!=5.4.0,!=5.4.1,<6,>=4.0->streamlit) (0.10.3)\n",
      "Requirement already satisfied: six>=1.5 in c:\\users\\ishita mishra\\appdata\\local\\programs\\python\\python311\\lib\\site-packages (from python-dateutil>=2.8.2->pandas<3,>=1.4.0->streamlit) (1.16.0)\n",
      "Downloading streamlit-1.48.1-py3-none-any.whl (9.9 MB)\n",
      "   ---------------------------------------- 0.0/9.9 MB ? eta -:--:--\n",
      "   - -------------------------------------- 0.3/9.9 MB ? eta -:--:--\n",
      "   --- ------------------------------------ 0.8/9.9 MB 2.1 MB/s eta 0:00:05\n",
      "   ----- ---------------------------------- 1.3/9.9 MB 2.2 MB/s eta 0:00:04\n",
      "   ------- -------------------------------- 1.8/9.9 MB 2.2 MB/s eta 0:00:04\n",
      "   -------- ------------------------------- 2.1/9.9 MB 2.2 MB/s eta 0:00:04\n",
      "   ---------- ----------------------------- 2.6/9.9 MB 2.2 MB/s eta 0:00:04\n",
      "   ------------ --------------------------- 3.1/9.9 MB 2.1 MB/s eta 0:00:04\n",
      "   ------------- -------------------------- 3.4/9.9 MB 2.1 MB/s eta 0:00:04\n",
      "   -------------- ------------------------- 3.7/9.9 MB 2.0 MB/s eta 0:00:04\n",
      "   --------------- ------------------------ 3.9/9.9 MB 1.9 MB/s eta 0:00:04\n",
      "   ---------------- ----------------------- 4.2/9.9 MB 1.8 MB/s eta 0:00:04\n",
      "   ----------------- ---------------------- 4.5/9.9 MB 1.7 MB/s eta 0:00:04\n",
      "   ------------------- -------------------- 4.7/9.9 MB 1.7 MB/s eta 0:00:04\n",
      "   -------------------- ------------------- 5.0/9.9 MB 1.7 MB/s eta 0:00:03\n",
      "   --------------------- ------------------ 5.2/9.9 MB 1.7 MB/s eta 0:00:03\n",
      "   ---------------------- ----------------- 5.5/9.9 MB 1.6 MB/s eta 0:00:03\n",
      "   ------------------------ --------------- 6.0/9.9 MB 1.7 MB/s eta 0:00:03\n",
      "   -------------------------- ------------- 6.6/9.9 MB 1.7 MB/s eta 0:00:02\n",
      "   ---------------------------- ----------- 7.1/9.9 MB 1.7 MB/s eta 0:00:02\n",
      "   ------------------------------ --------- 7.6/9.9 MB 1.8 MB/s eta 0:00:02\n",
      "   ------------------------------- -------- 7.9/9.9 MB 1.8 MB/s eta 0:00:02\n",
      "   --------------------------------- ------ 8.4/9.9 MB 1.8 MB/s eta 0:00:01\n",
      "   ---------------------------------- ----- 8.7/9.9 MB 1.8 MB/s eta 0:00:01\n",
      "   ------------------------------------ --- 9.2/9.9 MB 1.8 MB/s eta 0:00:01\n",
      "   -------------------------------------- - 9.4/9.9 MB 1.8 MB/s eta 0:00:01\n",
      "   ---------------------------------------  9.7/9.9 MB 1.8 MB/s eta 0:00:01\n",
      "   ---------------------------------------- 9.9/9.9 MB 1.7 MB/s eta 0:00:00\n",
      "Downloading altair-5.5.0-py3-none-any.whl (731 kB)\n",
      "   ---------------------------------------- 0.0/731.2 kB ? eta -:--:--\n",
      "   -------------- ------------------------- 262.1/731.2 kB ? eta -:--:--\n",
      "   ---------------------------- ----------- 524.3/731.2 kB 1.5 MB/s eta 0:00:01\n",
      "   ---------------------------------------- 731.2/731.2 kB 1.5 MB/s eta 0:00:00\n",
      "Downloading blinker-1.9.0-py3-none-any.whl (8.5 kB)\n",
      "Downloading click-8.2.1-py3-none-any.whl (102 kB)\n",
      "Downloading gitpython-3.1.45-py3-none-any.whl (208 kB)\n",
      "Downloading pyarrow-21.0.0-cp311-cp311-win_amd64.whl (26.2 MB)\n",
      "   ---------------------------------------- 0.0/26.2 MB ? eta -:--:--\n",
      "   - -------------------------------------- 0.8/26.2 MB 3.7 MB/s eta 0:00:07\n",
      "   - -------------------------------------- 1.3/26.2 MB 3.0 MB/s eta 0:00:09\n",
      "   -- ------------------------------------- 1.8/26.2 MB 2.9 MB/s eta 0:00:09\n",
      "   --- ------------------------------------ 2.1/26.2 MB 2.7 MB/s eta 0:00:10\n",
      "   --- ------------------------------------ 2.6/26.2 MB 2.4 MB/s eta 0:00:10\n",
      "   ----- ---------------------------------- 3.4/26.2 MB 2.6 MB/s eta 0:00:09\n",
      "   ----- ---------------------------------- 3.9/26.2 MB 2.6 MB/s eta 0:00:09\n",
      "   ------ --------------------------------- 4.2/26.2 MB 2.5 MB/s eta 0:00:09\n",
      "   ------- -------------------------------- 4.7/26.2 MB 2.5 MB/s eta 0:00:09\n",
      "   ------- -------------------------------- 5.2/26.2 MB 2.4 MB/s eta 0:00:09\n",
      "   -------- ------------------------------- 5.5/26.2 MB 2.3 MB/s eta 0:00:09\n",
      "   -------- ------------------------------- 5.8/26.2 MB 2.3 MB/s eta 0:00:10\n",
      "   --------- ------------------------------ 6.0/26.2 MB 2.3 MB/s eta 0:00:09\n",
      "   --------- ------------------------------ 6.6/26.2 MB 2.2 MB/s eta 0:00:10\n",
      "   ---------- ----------------------------- 6.8/26.2 MB 2.2 MB/s eta 0:00:10\n",
      "   ----------- ---------------------------- 7.3/26.2 MB 2.1 MB/s eta 0:00:09\n",
      "   ----------- ---------------------------- 7.6/26.2 MB 2.1 MB/s eta 0:00:09\n",
      "   ----------- ---------------------------- 7.9/26.2 MB 2.1 MB/s eta 0:00:09\n",
      "   ------------ --------------------------- 8.1/26.2 MB 2.0 MB/s eta 0:00:10\n",
      "   ------------- -------------------------- 8.7/26.2 MB 2.0 MB/s eta 0:00:09\n",
      "   ------------- -------------------------- 9.2/26.2 MB 2.0 MB/s eta 0:00:09\n",
      "   -------------- ------------------------- 9.7/26.2 MB 2.1 MB/s eta 0:00:08\n",
      "   --------------- ------------------------ 10.0/26.2 MB 2.0 MB/s eta 0:00:09\n",
      "   --------------- ------------------------ 10.5/26.2 MB 2.0 MB/s eta 0:00:08\n",
      "   ---------------- ----------------------- 10.7/26.2 MB 2.0 MB/s eta 0:00:08\n",
      "   ---------------- ----------------------- 11.0/26.2 MB 2.0 MB/s eta 0:00:08\n",
      "   ----------------- ---------------------- 11.5/26.2 MB 2.0 MB/s eta 0:00:08\n",
      "   ------------------ --------------------- 12.1/26.2 MB 2.0 MB/s eta 0:00:08\n",
      "   ------------------- -------------------- 12.6/26.2 MB 2.0 MB/s eta 0:00:07\n",
      "   ------------------- -------------------- 12.8/26.2 MB 2.0 MB/s eta 0:00:07\n",
      "   ------------------- -------------------- 13.1/26.2 MB 2.0 MB/s eta 0:00:07\n",
      "   -------------------- ------------------- 13.6/26.2 MB 2.0 MB/s eta 0:00:07\n",
      "   --------------------- ------------------ 13.9/26.2 MB 2.0 MB/s eta 0:00:07\n",
      "   --------------------- ------------------ 14.4/26.2 MB 2.0 MB/s eta 0:00:06\n",
      "   ---------------------- ----------------- 14.7/26.2 MB 2.0 MB/s eta 0:00:06\n",
      "   ---------------------- ----------------- 14.9/26.2 MB 1.9 MB/s eta 0:00:06\n",
      "Note: you may need to restart the kernel to use updated packages.\n",
      "   ----------------------- ---------------- 15.2/26.2 MB 1.9 MB/s eta 0:00:06\n",
      "   ----------------------- ---------------- 15.5/26.2 MB 1.9 MB/s eta 0:00:06\n",
      "   ----------------------- ---------------- 15.7/26.2 MB 1.9 MB/s eta 0:00:06\n",
      "   ----------------------- ---------------- 15.7/26.2 MB 1.9 MB/s eta 0:00:06\n",
      "   ------------------------ --------------- 16.3/26.2 MB 1.9 MB/s eta 0:00:06\n",
      "   ------------------------- -------------- 16.5/26.2 MB 1.8 MB/s eta 0:00:06\n",
      "   ------------------------- -------------- 17.0/26.2 MB 1.8 MB/s eta 0:00:05\n",
      "   -------------------------- ------------- 17.3/26.2 MB 1.8 MB/s eta 0:00:05\n",
      "   -------------------------- ------------- 17.6/26.2 MB 1.8 MB/s eta 0:00:05\n",
      "   --------------------------- ------------ 18.1/26.2 MB 1.8 MB/s eta 0:00:05\n",
      "   --------------------------- ------------ 18.4/26.2 MB 1.8 MB/s eta 0:00:05\n",
      "   ---------------------------- ----------- 18.6/26.2 MB 1.8 MB/s eta 0:00:05\n",
      "   ---------------------------- ----------- 18.9/26.2 MB 1.8 MB/s eta 0:00:05\n",
      "   ----------------------------- ---------- 19.1/26.2 MB 1.8 MB/s eta 0:00:04\n",
      "   ----------------------------- ---------- 19.4/26.2 MB 1.8 MB/s eta 0:00:04\n",
      "   ----------------------------- ---------- 19.7/26.2 MB 1.8 MB/s eta 0:00:04\n",
      "   ------------------------------ --------- 20.2/26.2 MB 1.8 MB/s eta 0:00:04\n",
      "   ------------------------------- -------- 20.4/26.2 MB 1.8 MB/s eta 0:00:04\n",
      "   ------------------------------- -------- 21.0/26.2 MB 1.8 MB/s eta 0:00:03\n",
      "   -------------------------------- ------- 21.2/26.2 MB 1.8 MB/s eta 0:00:03\n",
      "   -------------------------------- ------- 21.5/26.2 MB 1.8 MB/s eta 0:00:03\n",
      "   --------------------------------- ------ 21.8/26.2 MB 1.8 MB/s eta 0:00:03\n",
      "   --------------------------------- ------ 22.0/26.2 MB 1.8 MB/s eta 0:00:03\n",
      "   --------------------------------- ------ 22.3/26.2 MB 1.7 MB/s eta 0:00:03\n",
      "   ---------------------------------- ----- 22.5/26.2 MB 1.7 MB/s eta 0:00:03\n",
      "   ---------------------------------- ----- 22.8/26.2 MB 1.7 MB/s eta 0:00:02\n",
      "   ----------------------------------- ---- 23.1/26.2 MB 1.7 MB/s eta 0:00:02\n",
      "   ----------------------------------- ---- 23.3/26.2 MB 1.7 MB/s eta 0:00:02\n",
      "   ----------------------------------- ---- 23.6/26.2 MB 1.7 MB/s eta 0:00:02\n",
      "   ------------------------------------ --- 24.1/26.2 MB 1.7 MB/s eta 0:00:02\n",
      "   ------------------------------------- -- 24.4/26.2 MB 1.7 MB/s eta 0:00:02\n",
      "   ------------------------------------- -- 24.6/26.2 MB 1.7 MB/s eta 0:00:01\n",
      "   ------------------------------------- -- 24.9/26.2 MB 1.7 MB/s eta 0:00:01\n",
      "   -------------------------------------- - 25.2/26.2 MB 1.7 MB/s eta 0:00:01\n",
      "   ---------------------------------------  25.7/26.2 MB 1.7 MB/s eta 0:00:01\n",
      "   ---------------------------------------  26.2/26.2 MB 1.7 MB/s eta 0:00:01\n",
      "   ---------------------------------------  26.2/26.2 MB 1.7 MB/s eta 0:00:01\n",
      "   ---------------------------------------- 26.2/26.2 MB 1.7 MB/s eta 0:00:00\n",
      "Downloading pydeck-0.9.1-py2.py3-none-any.whl (6.9 MB)\n",
      "   ---------------------------------------- 0.0/6.9 MB ? eta -:--:--\n",
      "   - -------------------------------------- 0.3/6.9 MB ? eta -:--:--\n",
      "   ---- ----------------------------------- 0.8/6.9 MB 2.6 MB/s eta 0:00:03\n",
      "   ------- -------------------------------- 1.3/6.9 MB 2.1 MB/s eta 0:00:03\n",
      "   --------- ------------------------------ 1.6/6.9 MB 1.9 MB/s eta 0:00:03\n",
      "   ------------ --------------------------- 2.1/6.9 MB 1.9 MB/s eta 0:00:03\n",
      "   ------------- -------------------------- 2.4/6.9 MB 2.0 MB/s eta 0:00:03\n",
      "   ---------------- ----------------------- 2.9/6.9 MB 2.0 MB/s eta 0:00:02\n",
      "   --------------------- ------------------ 3.7/6.9 MB 2.2 MB/s eta 0:00:02\n",
      "   ------------------------ --------------- 4.2/6.9 MB 2.2 MB/s eta 0:00:02\n",
      "   ---------------------------- ----------- 5.0/6.9 MB 2.4 MB/s eta 0:00:01\n",
      "   ------------------------------ --------- 5.2/6.9 MB 2.3 MB/s eta 0:00:01\n",
      "   ------------------------------- -------- 5.5/6.9 MB 2.2 MB/s eta 0:00:01\n",
      "   --------------------------------- ------ 5.8/6.9 MB 2.2 MB/s eta 0:00:01\n",
      "   ---------------------------------- ----- 6.0/6.9 MB 2.1 MB/s eta 0:00:01\n",
      "   ------------------------------------- -- 6.6/6.9 MB 2.0 MB/s eta 0:00:01\n",
      "   ---------------------------------------- 6.9/6.9 MB 2.0 MB/s eta 0:00:00\n",
      "Downloading tenacity-9.1.2-py3-none-any.whl (28 kB)\n",
      "Downloading toml-0.10.2-py2.py3-none-any.whl (16 kB)\n",
      "Downloading typing_extensions-4.14.1-py3-none-any.whl (43 kB)\n",
      "Downloading watchdog-6.0.0-py3-none-win_amd64.whl (79 kB)\n",
      "Downloading gitdb-4.0.12-py3-none-any.whl (62 kB)\n",
      "Downloading narwhals-2.1.2-py3-none-any.whl (392 kB)\n",
      "Downloading smmap-5.0.2-py3-none-any.whl (24 kB)\n",
      "Installing collected packages: watchdog, typing-extensions, toml, tenacity, smmap, pyarrow, narwhals, click, blinker, pydeck, gitdb, gitpython, altair, streamlit\n",
      "  Attempting uninstall: typing-extensions\n",
      "    Found existing installation: typing_extensions 4.9.0\n",
      "    Uninstalling typing_extensions-4.9.0:\n",
      "      Successfully uninstalled typing_extensions-4.9.0\n",
      "Successfully installed altair-5.5.0 blinker-1.9.0 click-8.2.1 gitdb-4.0.12 gitpython-3.1.45 narwhals-2.1.2 pyarrow-21.0.0 pydeck-0.9.1 smmap-5.0.2 streamlit-1.48.1 tenacity-9.1.2 toml-0.10.2 typing-extensions-4.14.1 watchdog-6.0.0\n"
     ]
    },
    {
     "name": "stderr",
     "output_type": "stream",
     "text": [
      "\n",
      "[notice] A new release of pip is available: 25.0 -> 25.2\n",
      "[notice] To update, run: python.exe -m pip install --upgrade pip\n"
     ]
    }
   ],
   "source": [
    "pip install streamlit"
   ]
  },
  {
   "cell_type": "code",
   "execution_count": 19,
   "id": "fc609bb4-7cf0-448d-a50e-1df1b25ae7d6",
   "metadata": {},
   "outputs": [],
   "source": [
    "import streamlit as st\n",
    "import pandas as pd \n",
    "import numpy as np\n",
    "import seaborn as sns\n",
    "import matplotlib.pyplot as plt"
   ]
  },
  {
   "cell_type": "code",
   "execution_count": 10,
   "id": "777a1575-a922-40d5-bde0-039ada488356",
   "metadata": {},
   "outputs": [
    {
     "name": "stderr",
     "output_type": "stream",
     "text": [
      "2025-08-20 16:09:53.201 No runtime found, using MemoryCacheStorageManager\n"
     ]
    }
   ],
   "source": [
    "@st.cache_data\n",
    "def load_data():\n",
    "    df = pd.read_csv(\"C://Users//ishita mishra//Downloads//archive (1)//PS_20174392719_1491204439457_log.csv\")\n",
    "    return df"
   ]
  },
  {
   "cell_type": "code",
   "execution_count": 11,
   "id": "5c699d42-fcc0-4dbb-8c7f-a5f51b89b476",
   "metadata": {},
   "outputs": [
    {
     "name": "stderr",
     "output_type": "stream",
     "text": [
      "2025-08-20 16:09:58.714 No runtime found, using MemoryCacheStorageManager\n",
      "2025-08-20 16:09:58.714 Thread 'MainThread': missing ScriptRunContext! This warning can be ignored when running in bare mode.\n",
      "2025-08-20 16:09:58.722 Thread 'MainThread': missing ScriptRunContext! This warning can be ignored when running in bare mode.\n",
      "2025-08-20 16:09:58.726 Thread 'MainThread': missing ScriptRunContext! This warning can be ignored when running in bare mode.\n",
      "2025-08-20 16:09:58.726 Thread 'MainThread': missing ScriptRunContext! This warning can be ignored when running in bare mode.\n",
      "2025-08-20 16:09:59.243 Thread 'Thread-10': missing ScriptRunContext! This warning can be ignored when running in bare mode.\n",
      "2025-08-20 16:09:59.249 Thread 'Thread-10': missing ScriptRunContext! This warning can be ignored when running in bare mode.\n",
      "2025-08-20 16:09:59.256 Thread 'Thread-10': missing ScriptRunContext! This warning can be ignored when running in bare mode.\n",
      "2025-08-20 16:10:30.444 Thread 'MainThread': missing ScriptRunContext! This warning can be ignored when running in bare mode.\n",
      "2025-08-20 16:10:30.570 Thread 'MainThread': missing ScriptRunContext! This warning can be ignored when running in bare mode.\n",
      "2025-08-20 16:10:30.590 Thread 'MainThread': missing ScriptRunContext! This warning can be ignored when running in bare mode.\n"
     ]
    }
   ],
   "source": [
    "df = load_data()"
   ]
  },
  {
   "cell_type": "code",
   "execution_count": 12,
   "id": "fc7998a9-5dd6-4192-881c-474705d33473",
   "metadata": {},
   "outputs": [
    {
     "name": "stderr",
     "output_type": "stream",
     "text": [
      "2025-08-20 16:11:22.128 Thread 'MainThread': missing ScriptRunContext! This warning can be ignored when running in bare mode.\n",
      "2025-08-20 16:11:22.130 Thread 'MainThread': missing ScriptRunContext! This warning can be ignored when running in bare mode.\n",
      "2025-08-20 16:11:22.138 Thread 'MainThread': missing ScriptRunContext! This warning can be ignored when running in bare mode.\n"
     ]
    },
    {
     "data": {
      "text/plain": [
       "DeltaGenerator()"
      ]
     },
     "execution_count": 12,
     "metadata": {},
     "output_type": "execute_result"
    }
   ],
   "source": [
    "st.title(\"💳 Financial Transaction Fraud Analysis Dashboard\")"
   ]
  },
  {
   "cell_type": "code",
   "execution_count": 14,
   "id": "4051e304-41b9-4635-91b8-b5d7c8b914c4",
   "metadata": {},
   "outputs": [
    {
     "name": "stderr",
     "output_type": "stream",
     "text": [
      "2025-08-20 16:13:06.726 Thread 'MainThread': missing ScriptRunContext! This warning can be ignored when running in bare mode.\n",
      "2025-08-20 16:13:06.728 Thread 'MainThread': missing ScriptRunContext! This warning can be ignored when running in bare mode.\n",
      "2025-08-20 16:13:06.730 Thread 'MainThread': missing ScriptRunContext! This warning can be ignored when running in bare mode.\n",
      "2025-08-20 16:13:07.054 Thread 'MainThread': missing ScriptRunContext! This warning can be ignored when running in bare mode.\n",
      "2025-08-20 16:13:07.055 Thread 'MainThread': missing ScriptRunContext! This warning can be ignored when running in bare mode.\n",
      "2025-08-20 16:13:07.057 Thread 'MainThread': missing ScriptRunContext! This warning can be ignored when running in bare mode.\n"
     ]
    }
   ],
   "source": [
    "st.subheader(\"Dataset Overview\")\n",
    "st.write(df.head())"
   ]
  },
  {
   "cell_type": "code",
   "execution_count": 21,
   "id": "6da25602-81fe-4c67-8cbd-c63e2d17d142",
   "metadata": {},
   "outputs": [
    {
     "name": "stderr",
     "output_type": "stream",
     "text": [
      "2025-08-20 16:20:19.525 Thread 'MainThread': missing ScriptRunContext! This warning can be ignored when running in bare mode.\n",
      "2025-08-20 16:20:19.538 Thread 'MainThread': missing ScriptRunContext! This warning can be ignored when running in bare mode.\n",
      "2025-08-20 16:20:19.541 Thread 'MainThread': missing ScriptRunContext! This warning can be ignored when running in bare mode.\n",
      "C:\\Users\\ishita mishra\\AppData\\Local\\Programs\\Python\\Python311\\Lib\\site-packages\\seaborn\\_oldcore.py:1498: FutureWarning: is_categorical_dtype is deprecated and will be removed in a future version. Use isinstance(dtype, CategoricalDtype) instead\n",
      "  if pd.api.types.is_categorical_dtype(vector):\n",
      "C:\\Users\\ishita mishra\\AppData\\Local\\Programs\\Python\\Python311\\Lib\\site-packages\\seaborn\\_oldcore.py:1498: FutureWarning: is_categorical_dtype is deprecated and will be removed in a future version. Use isinstance(dtype, CategoricalDtype) instead\n",
      "  if pd.api.types.is_categorical_dtype(vector):\n",
      "2025-08-20 16:20:23.963 Thread 'MainThread': missing ScriptRunContext! This warning can be ignored when running in bare mode.\n",
      "2025-08-20 16:20:24.372 Thread 'MainThread': missing ScriptRunContext! This warning can be ignored when running in bare mode.\n",
      "2025-08-20 16:20:24.383 Thread 'MainThread': missing ScriptRunContext! This warning can be ignored when running in bare mode.\n",
      "2025-08-20 16:20:24.383 Thread 'MainThread': missing ScriptRunContext! This warning can be ignored when running in bare mode.\n"
     ]
    },
    {
     "data": {
      "text/plain": [
       "DeltaGenerator()"
      ]
     },
     "execution_count": 21,
     "metadata": {},
     "output_type": "execute_result"
    }
   ],
   "source": [
    "# Transaction Type Distribution\n",
    "st.subheader(\"Transaction Type\")\n",
    "fig, ax = plt.subplots()\n",
    "sns.countplot(data=df, x=\"type\", order=df[\"type\"].value_counts().index, ax=ax)\n",
    "st.pyplot(fig)"
   ]
  },
  {
   "cell_type": "code",
   "execution_count": 23,
   "id": "0d8bfd06-e800-4771-9bc5-c547c252bca3",
   "metadata": {},
   "outputs": [
    {
     "name": "stderr",
     "output_type": "stream",
     "text": [
      "2025-08-20 16:24:08.090 Thread 'MainThread': missing ScriptRunContext! This warning can be ignored when running in bare mode.\n",
      "2025-08-20 16:24:08.096 Thread 'MainThread': missing ScriptRunContext! This warning can be ignored when running in bare mode.\n",
      "2025-08-20 16:24:08.100 Thread 'MainThread': missing ScriptRunContext! This warning can be ignored when running in bare mode.\n",
      "2025-08-20 16:24:08.278 Thread 'MainThread': missing ScriptRunContext! This warning can be ignored when running in bare mode.\n",
      "2025-08-20 16:24:08.278 Thread 'MainThread': missing ScriptRunContext! This warning can be ignored when running in bare mode.\n",
      "2025-08-20 16:24:08.286 Thread 'MainThread': missing ScriptRunContext! This warning can be ignored when running in bare mode.\n"
     ]
    }
   ],
   "source": [
    "# Fraud vs Non-Fraud\n",
    "st.subheader(\"Fraud vs Non-Fraud\")\n",
    "fraud_count = df['isFraud'].value_counts()\n",
    "st.write(fraud_count)\n"
   ]
  },
  {
   "cell_type": "code",
   "execution_count": 27,
   "id": "7922b45c-1c64-47a6-ac11-84c9f32751e7",
   "metadata": {},
   "outputs": [
    {
     "name": "stderr",
     "output_type": "stream",
     "text": [
      "2025-08-20 16:28:07.968 Thread 'MainThread': missing ScriptRunContext! This warning can be ignored when running in bare mode.\n",
      "2025-08-20 16:28:08.181 Thread 'MainThread': missing ScriptRunContext! This warning can be ignored when running in bare mode.\n",
      "2025-08-20 16:28:08.182 Thread 'MainThread': missing ScriptRunContext! This warning can be ignored when running in bare mode.\n",
      "2025-08-20 16:28:08.184 Thread 'MainThread': missing ScriptRunContext! This warning can be ignored when running in bare mode.\n"
     ]
    },
    {
     "data": {
      "text/plain": [
       "DeltaGenerator()"
      ]
     },
     "execution_count": 27,
     "metadata": {},
     "output_type": "execute_result"
    }
   ],
   "source": [
    "fig, ax = plt.subplots()\n",
    "fraud_count.plot.pie(autopct =\"%1.2f%%\", labels = ['Not Fraud', 'Fraud'], colors = ['skyblue', 'red'], ax=ax)\n",
    "st.pyplot(fig)"
   ]
  },
  {
   "cell_type": "code",
   "execution_count": 28,
   "id": "8fc3f1c3-d969-431d-9cb7-725e71e7d3dd",
   "metadata": {},
   "outputs": [
    {
     "name": "stderr",
     "output_type": "stream",
     "text": [
      "2025-08-20 16:32:48.932 Thread 'MainThread': missing ScriptRunContext! This warning can be ignored when running in bare mode.\n",
      "2025-08-20 16:32:48.935 Thread 'MainThread': missing ScriptRunContext! This warning can be ignored when running in bare mode.\n",
      "2025-08-20 16:32:48.939 Thread 'MainThread': missing ScriptRunContext! This warning can be ignored when running in bare mode.\n",
      "C:\\Users\\ishita mishra\\AppData\\Local\\Programs\\Python\\Python311\\Lib\\site-packages\\seaborn\\_oldcore.py:1498: FutureWarning: is_categorical_dtype is deprecated and will be removed in a future version. Use isinstance(dtype, CategoricalDtype) instead\n",
      "  if pd.api.types.is_categorical_dtype(vector):\n",
      "C:\\Users\\ishita mishra\\AppData\\Local\\Programs\\Python\\Python311\\Lib\\site-packages\\seaborn\\_oldcore.py:1498: FutureWarning: is_categorical_dtype is deprecated and will be removed in a future version. Use isinstance(dtype, CategoricalDtype) instead\n",
      "  if pd.api.types.is_categorical_dtype(vector):\n",
      "C:\\Users\\ishita mishra\\AppData\\Local\\Programs\\Python\\Python311\\Lib\\site-packages\\seaborn\\_oldcore.py:1498: FutureWarning: is_categorical_dtype is deprecated and will be removed in a future version. Use isinstance(dtype, CategoricalDtype) instead\n",
      "  if pd.api.types.is_categorical_dtype(vector):\n",
      "2025-08-20 16:32:50.776 Thread 'MainThread': missing ScriptRunContext! This warning can be ignored when running in bare mode.\n",
      "2025-08-20 16:32:51.179 Thread 'MainThread': missing ScriptRunContext! This warning can be ignored when running in bare mode.\n",
      "2025-08-20 16:32:51.179 Thread 'MainThread': missing ScriptRunContext! This warning can be ignored when running in bare mode.\n",
      "2025-08-20 16:32:51.179 Thread 'MainThread': missing ScriptRunContext! This warning can be ignored when running in bare mode.\n"
     ]
    },
    {
     "data": {
      "text/plain": [
       "DeltaGenerator()"
      ]
     },
     "execution_count": 28,
     "metadata": {},
     "output_type": "execute_result"
    }
   ],
   "source": [
    "# Amount Analysis\n",
    "st.subheader(\"Transaction Amounts (Fraud vs Non-Fraud)\")\n",
    "fig, ax = plt.subplots()\n",
    "sns.boxplot(data=df, x='isFraud', y='amount', ax=ax)\n",
    "ax.set_ylim(0,500000)\n",
    "st.pyplot(fig)"
   ]
  },
  {
   "cell_type": "code",
   "execution_count": null,
   "id": "929e8e63-0bfc-420a-964d-28232ebdec07",
   "metadata": {},
   "outputs": [],
   "source": [
    "st.sidebar.subheader(\"Filters\")\n",
    "tx_type = st.sidebar.multiselect(\"Select Transaction Type\", df['type'].unique())\n",
    "if tx_type:\n",
    "    df = df[df['type'"
   ]
  }
 ],
 "metadata": {
  "kernelspec": {
   "display_name": "Python 3 (ipykernel)",
   "language": "python",
   "name": "python3"
  },
  "language_info": {
   "codemirror_mode": {
    "name": "ipython",
    "version": 3
   },
   "file_extension": ".py",
   "mimetype": "text/x-python",
   "name": "python",
   "nbconvert_exporter": "python",
   "pygments_lexer": "ipython3",
   "version": "3.11.4"
  }
 },
 "nbformat": 4,
 "nbformat_minor": 5
}
